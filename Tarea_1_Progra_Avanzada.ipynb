{
  "cells": [
    {
      "cell_type": "markdown",
      "metadata": {},
      "source": [
        "# Preguntas Teóricas"
      ]
    },
    {
      "cell_type": "markdown",
      "metadata": {},
      "source": [
        "\n",
        "1.  ¿Que es un paradigma de programación?.\n",
        "\n",
        "*  un paradigma de programación es un enfoque para organizar y expresar ideas sobre procesos computacionales mediante lenguajes que permiten combinar ideas simples en estructuras más complejas. Estos paradigmas se diferencian principalmente por cómo manejan la abstracción y el control de los detalles; por ejemplo, la programación imperativa se centra en describir los pasos para lograr un resultado (cómo hacer), mientras que la programación declarativa se enfoca en especificar el resultado deseado (qué hacer), sin preocuparse por los detalles del proceso. Los paradigmas como el funcional y el orientado a objetos también reflejan distintas maneras de estructurar los programas, ya sea tratando funciones como entidades independientes sin estado o descomponiendo el mundo en objetos que interactúan y poseen estado​​​ [1].\n",
        "\n",
        "\n",
        "2. ¿En qué se basa la programación orientada a objetos?.\n",
        "\n",
        "* la programación orientada a objetos (POO) se define como una metodología en la que un sistema se estructura a través de objetos, los cuales interactúan entre sí para cumplir con ciertos objetivos. Estos objetos se crean a partir de clases que establecen tanto sus propiedades como sus comportamientos. Las clases pueden heredar características de otras, lo que facilita la reutilización de código y la expansión de funcionalidades según sea necesario. La POO promueve conceptos como la abstracción, que permite centrarse en lo esencial de un objeto sin detallar su implementación interna; el encapsulamiento, que restringe el acceso a ciertos aspectos internos del objeto; la herencia, que permite que una clase adquiera los atributos y métodos de otra; y el polimorfismo, que facilita la definición de métodos con el mismo nombre en distintas clases, aunque con comportamientos específicos para cada una [2].\n",
        "\n",
        "3. ¿Cuál es la diferencia entre recursividad e iteración, y cómo se relaciona esto con la notación big 𝑂?.\n",
        "\n",
        "* Un proceso recursivo se caracteriza por una serie de pasos que se aplazan hasta resolver subproblemas más pequeños, y luego se deshacen en orden inverso. Esto requiere que el programa recuerde todos los pasos que quedan por hacer, lo que consume más memoria cuanto más larga sea la secuencia de pasos, resultando en una complejidad de O(n). En cambio, un proceso iterativo utiliza un número fijo de variables que se actualizan repetidamente siguiendo una regla, sin necesidad de recordar los pasos anteriores. Aunque los pasos también son proporcionales a O(n), la memoria utilizada es constante, ya que no se necesita almacenar información adicional. Ambos enfoques están relacionados con la notación Big O porque miden el tiempo y la memoria que necesita un algoritmo para ejecutarse [3].\n",
        "\n",
        "4. explicar la diferencia de rendimiento entre 𝑂(1) y 𝑂(𝑛).\n",
        "\n",
        "* La notación O(1) significa que una operación siempre toma la misma cantidad de tiempo, sin importar el tamaño de la entrada; un ejemplo es acceder a un elemento en un arreglo mediante un índice, ya que no importa cuántos elementos haya, el acceso es inmediato. Por otro lado, O(n) o tiempo lineal, implica que el tiempo de ejecución aumenta de manera proporcional al tamaño de la entrada, como encontrar el elemento máximo en una lista requiere revisar cada elemento una vez, y mientras más grande sea la lista, más operaciones serán necesarias [3].\n",
        "\n",
        "5. ¿Cómo se calcula el orden en un programa que funciona por etapas?.\n",
        "\n",
        "* Para calcular el orden en un programa, es necesario analizar cada una de las etapas o fases de manera individual y luego sumar sus contribuciones. La idea es identificar la complejidad de cada paso y, en caso de que los pasos se realicen secuencialmente, la complejidad total será la suma de las complejidades de cada etapa. Si los pasos ocurren de manera anidada o iterativa, se multiplican las complejidades. Esto permite determinar cómo cambia el tiempo de ejecución a medida que aumenta el tamaño de la entrada, obteniendo una medida global del rendimiento utilizando la notación Big O​ [3].\n",
        "\n",
        "6. ¿Cómo se puede determinar la complejidad temporal de un algoritmo recursivo?.\n",
        "\n",
        "* Para determinar la complejidad temporal de un algoritmo recursivo, se debe analizar cuántas veces la función se llama a sí misma y cuántas operaciones se realizan en cada llamada. Se examina el número de invocaciones recursivas y cómo disminuyen los parámetros en cada una. Por ejemplo, en el cálculo del factorial, la recursión ocurre n veces, resultando en una complejidad de O(n), ya que se realizan n+1 llamadas. En algoritmos como la búsqueda binaria, donde el espacio de búsqueda se reduce a la mitad en cada paso, la complejidad es O(log n), ya que el número de llamadas decrece logarítmicamente [3].\n",
        "\n"
      ]
    },
    {
      "cell_type": "markdown",
      "metadata": {},
      "source": [
        "Referencias\n",
        "\n",
        "[1] H. Abelson, G. J. Sussman, and J. Sussman, Structure and Interpretation of Computer Programs, 2nd ed. Cambridge, MA: MIT Press, 1996.\n",
        "\n",
        "[2] \"Algoritmos y Estructuras de Datos - Programación Orientada a Objetos en Python,\" [PDF document]. Disponible: /mnt/data/211007100920-Tema 3.pdf\n",
        "\n",
        "[3] M. T. Goodrich, R. Tamassia, and M. H. Goldwasser, Data Structures and Algorithms in Python, 1st ed. Hoboken, NJ, USA: Wiley, 2013."
      ]
    },
    {
      "cell_type": "markdown",
      "metadata": {
        "id": "26A_cEuOcLfD"
      },
      "source": [
        "# Parte 1"
      ]
    },
    {
      "cell_type": "markdown",
      "metadata": {
        "id": "9_q5FEBz9Zm2"
      },
      "source": [
        "Programe una clase que sea capaz de calcular la cantidad posible de caminos entre 𝐴\n",
        "y 𝐵, en al menos 2 formas distintas."
      ]
    },
    {
      "cell_type": "markdown",
      "metadata": {},
      "source": [
        "*Explicación (Metodo_Recursivo):*\n",
        "\n",
        "* __def init__: Se establecen las dimensiones de la tabla o matriz (número de filas y columnas), y se inicializa una lista vacía llamada caminos_almacenados para almacenar los caminos que se encontrarán más adelante.\n",
        "\n",
        "* __camino_actual.append((i,j))__:  En esta línea, se añade la coordenada actual al camino que el algoritmo está construyendo.\n",
        "\n",
        "* __if i==self.filas-1 and j==self.columnas-1:__ El algoritmo verifica si ha alcanzado la esquina inferior derecha de la matriz (el destino). Si es así, ha encontrado un camino completo.\n",
        "\n",
        "* __ruta=tuple(camino_actual):__ Convierte el camino actual en una tupla para facilitar su almacenamiento.\n",
        "\n",
        "* __if ruta not in self.caminos_almacenados:__ El algoritmo verifica si el camino ya ha sido registrado antes para evitar duplicados.\n",
        "\n",
        "* __self.caminos_almacenados.append(ruta):__ Si el camino es único, lo agrega a la lista de caminos almacenados.\n",
        "\n",
        "* __camino_actual.pop():__ Si el camino ya existía, retrocede quitando el último paso del camino actual.\n",
        "\n",
        "* __if j+1 < self.columnas:__ Verifica si hay espacio para moverse hacia la derecha. Si no ha alcanzado el borde derecho, puede moverse en esa dirección.\n",
        "\n",
        "         self.Metodo_Recursivo(i,j+1,camino_actual): Llama a sí mismo para intentar moverse hacia la derecha.\n",
        "\n",
        "* __if i+1 < self.filas:__ Verifica si hay espacio para moverse hacia abajo. Si no ha alcanzado el borde inferior, puede moverse en esa dirección.\n",
        "\n",
        "        self.Metodo_Recursivo(i+1,j,camino_actual): Llama a sí mismo para intentar moverse hacia abajo.\n",
        "\n",
        "* __def visualizar_caminos(self):__ : Este método inicializa el proceso de búsqueda de caminos. Comienza en la esquina superior izquierda (posición 0,0) y llama al método recursivo.\n",
        "      \n",
        "      self.Metodo_Recursivo(0,0,[]): Llama al método recursivo con una lista vacía para registrar el camino.\n",
        "\n",
        "      return len(self.caminos_almacenados): Devuelve el número total de caminos que ha encontrado y almacenado en la lista de caminos.\n",
        "\n",
        "\n",
        "\n",
        "\n",
        "\n",
        "*Logica del codigo (Metodo_Recursivo):*\n",
        "\n",
        "La propuesta intenta buscar caminos en una matriz, avanzando por rutas disponibles hasta llegar al punto final (2,2). Cuando el algoritmo alcanza este punto, guarda el camino completo y utiliza backtracking para retroceder y explorar otras rutas posibles. El backtracking implica que el algoritmo elimina el último punto recorrido usando camino_actual.pop(), lo que lo lleva al punto anterior, en este caso, (1,2). Desde esta nueva posición, evalúa las opciones de movimiento, si puede avanzar a la derecha o hacia abajo. Si ninguna opción es válida, sigue retrocediendo y buscando otros caminos.\n",
        "\n",
        "Al retroceder al punto (1,2), el algoritmo identifica que puede moverse hacia abajo y volver a (2,2), pero para evitar un ciclo infinito (volver a un punto ya visitado), implementa una verificación. Si el punto (2,2) ya está en el camino actual, no lo agrega a la lista de caminos. Una vez evitado el ciclo, el algoritmo continúa explorando otras rutas retrocediendo aún más, como hacia el punto (0,2), para seguir buscando caminos alternativos. Este proceso de retroceso y verificación asegura que se encuentren todas las rutas posibles sin repetir ni caer en bucles.\n",
        "\n",
        "\n",
        "\n"
      ]
    },
    {
      "cell_type": "markdown",
      "metadata": {},
      "source": [
        "*Explicación (Metodo_Iterativo):*\n",
        "\n",
        "* __self.matriz_caminos[0][0] = 1:__ El primer paso del método es inicializar la posición (0,0), la esquina superior izquierda de la matriz, con el valor 1. Esto indica que hay un único camino que lleva al punto de partida (ya que empezamos desde aquí).\n",
        "\n",
        "* __for i in range(self.filas):__\n",
        "\n",
        "    for j in range(self.columnas): \n",
        "\n",
        "        if i > 0: self.matriz_caminos[i][j] += self.matriz_caminos[i - 1][j]: Si hay una fila anterior (es decir, i > 0), añade el número de caminos que vienen desde la parte superior.\n",
        "        \n",
        "        if j > 0: self.matriz_caminos[i][j] += self.matriz_caminos[i][j - 1]: Si hay una columna anterior (es decir, j > 0), añade el número de caminos que vienen desde la izquierda.\n",
        "\n",
        "    Es decir, en cada celda de la matriz se va acumulando el número total de caminos posibles que pueden llegar a esa posición.\n",
        "\n",
        "* __visualizar_caminos_iterativo(self):__ Devuelve el valor en la posición (filas-1, columnas-1), que es la esquina inferior derecha de la matriz. Este valor representa el número total de caminos que llevan desde la esquina superior izquierda hasta la esquina inferior derecha.\n",
        "\n",
        "\n",
        "*logica del codigo (Metodo_Iterativo):*\n",
        "\n",
        " La lógica se basa en calcular, para cada celda de la matriz, cuántas formas existen de llegar a esa celda sumando los caminos que llegan desde arriba y desde la izquierda. Inicialmente, se establece la posición de partida (0,0) con un valor de 1, indicando que hay un único camino que empieza en ese punto. Luego, el algoritmo recorre todas las posiciones de la matriz con dos bucles anidados. Para cada celda, si existe una fila anterior, se añade el número de caminos que llegan desde la celda superior. Si existe una columna anterior, se añaden los caminos que llegan desde la celda izquierda. Así, cada celda va acumulando el número de caminos posibles para llegar hasta ella. Al completar el recorrido de toda la matriz, el valor en la última celda (esquina inferior derecha) contiene el número total de caminos posibles desde la esquina superior izquierda hasta esa posición. Este valor es lo que devuelve el método visualizar_caminos_iterativo."
      ]
    },
    {
      "cell_type": "code",
      "execution_count": 2,
      "metadata": {
        "colab": {
          "base_uri": "https://localhost:8080/"
        },
        "id": "bTfgg4kYBbai",
        "outputId": "9982a69c-9af1-43bb-d541-bfa95802dac6"
      },
      "outputs": [
        {
          "name": "stdout",
          "output_type": "stream",
          "text": [
            "Recursivo - Número de caminos posibles: 6\n",
            "Iterativo - Número de caminos posibles: 6\n"
          ]
        }
      ],
      "source": [
        "import numpy as np\n",
        "\n",
        "class DiseñoPCB:\n",
        "    def __init__(self, filas, columnas):\n",
        "        self.filas= filas\n",
        "        self.columnas= columnas\n",
        "        self.caminos_almacenados= []  # Para el método recursivo\n",
        "        self.matriz_caminos = np.zeros((filas, columnas), dtype=int)  # Para el método iterativo\n",
        "\n",
        "    def Metodo_Recursivo(self, i, j, camino_actual):\n",
        "        # Añadir la posición actual al camino\n",
        "        camino_actual.append((i, j))\n",
        "\n",
        "        # Si se ha llegado al destino (B)\n",
        "        if i == self.filas - 1 and j == self.columnas - 1:\n",
        "            ruta = tuple(camino_actual)\n",
        "            # Almacena la ruta si no ha sido almacenada antes\n",
        "            if ruta not in self.caminos_almacenados:\n",
        "                self.caminos_almacenados.append(ruta)\n",
        "            camino_actual.pop()  # Elimina la última posición antes de regresar\n",
        "            return\n",
        "\n",
        "        # Explorar el camino hacia la derecha\n",
        "        if j + 1 < self.columnas:\n",
        "            self.Metodo_Recursivo(i, j + 1, camino_actual)\n",
        "\n",
        "        # Explorar el camino hacia abajo\n",
        "        if i + 1 < self.filas:\n",
        "            self.Metodo_Recursivo(i + 1, j, camino_actual)\n",
        "\n",
        "        camino_actual.pop()  # Quita la última posición antes de regresar en cada rama\n",
        "\n",
        "\n",
        "\n",
        "\n",
        "    def Metodo_Iterativo(self):\n",
        "        # Inicializa la primera posición como 1\n",
        "        self.matriz_caminos[0][0] = 1\n",
        "\n",
        "        for i in range(self.filas):\n",
        "            for j in range(self.columnas):\n",
        "                if i > 0:\n",
        "                    self.matriz_caminos[i][j] += self.matriz_caminos[i - 1][j]\n",
        "                if j > 0:\n",
        "                    self.matriz_caminos[i][j] += self.matriz_caminos[i][j - 1]\n",
        "\n",
        "    def visualizar_caminos_recursivo(self):\n",
        "        # Reinicia la lista de caminos antes de calcular\n",
        "        self.caminos_almacenados.clear()\n",
        "        self.Metodo_Recursivo(0, 0, [])\n",
        "        return len(self.caminos_almacenados)\n",
        "\n",
        "    def visualizar_caminos_iterativo(self):\n",
        "        self.Metodo_Iterativo()\n",
        "        return self.matriz_caminos[self.filas - 1][self.columnas - 1]\n",
        "\n",
        "# Ejemplo de uso\n",
        "x = DiseñoPCB(3, 3)\n",
        "\n",
        "# Calcula caminos usando el método recursivo\n",
        "resultado_recursivo = x.visualizar_caminos_recursivo()\n",
        "print(f\"Recursivo - Número de caminos posibles: {resultado_recursivo}\")\n",
        "\n",
        "# Calcula caminos usando el método iterativo\n",
        "resultado_iterativo = x.visualizar_caminos_iterativo()\n",
        "print(f\"Iterativo - Número de caminos posibles: {resultado_iterativo}\")\n",
        "\n",
        "\n"
      ]
    },
    {
      "cell_type": "markdown",
      "metadata": {
        "id": "E4CiJYUecpcJ"
      },
      "source": [
        "# Parte 2"
      ]
    },
    {
      "cell_type": "markdown",
      "metadata": {
        "id": "JvWK1ELtcbf1"
      },
      "source": [
        "Primero, puede crear un nuevo método por cada solución programada, que entregue el tiempo\n",
        "de ejecución de dicha solución para un input determinado.\n",
        "\n",
        "* inicio = perf_counter(): Aquí se inicia un contador de tiempo usando perf_counter, que es una función de Python diseñada para medir el tiempo transcurrido con alta precisión.\n",
        "* resultado = metodo(): Se ejecuta el método que se ha pasado como argumento, ya sea el recursivo o el iterativo.\n",
        "* fin = perf_counter(): Una vez que el método ha finalizado, se toma nuevamente el tiempo utilizando perf_counter para obtener el tiempo total transcurrido desde que comenzó.\n",
        "* tiempo = fin - inicio: Se calcula el tiempo total que tomó la ejecución del método restando el tiempo inicial del tiempo final.\n",
        "\n"
      ]
    },
    {
      "cell_type": "code",
      "execution_count": 3,
      "metadata": {
        "colab": {
          "base_uri": "https://localhost:8080/"
        },
        "id": "Igdr4DEacs5p",
        "outputId": "14d2ccac-4a1a-496d-a23e-ce1457899aa5"
      },
      "outputs": [
        {
          "name": "stdout",
          "output_type": "stream",
          "text": [
            "Recursivo - Número de caminos posibles: 6\n",
            "Tiempo de ejecución (recursivo): 0.000029 segundos\n",
            "Iterativo - Número de caminos posibles: 6\n",
            "Tiempo de ejecución (iterativo): 0.000021 segundos\n"
          ]
        }
      ],
      "source": [
        "from time import perf_counter\n",
        "import numpy as np\n",
        "\n",
        "class DiseñoPCB:\n",
        "    def __init__(self, filas, columnas):\n",
        "        self.filas = filas\n",
        "        self.columnas = columnas\n",
        "        self.caminos_almacenados = []  \n",
        "        self.matriz_caminos = np.zeros((filas, columnas), dtype=int)  \n",
        "\n",
        "    def Metodo_Recursivo(self, i, j, camino_actual):\n",
        "        camino_actual.append((i, j))\n",
        "        if i == self.filas - 1 and j == self.columnas - 1:\n",
        "            ruta = tuple(camino_actual)\n",
        "            if ruta not in self.caminos_almacenados:\n",
        "                self.caminos_almacenados.append(ruta)\n",
        "            camino_actual.pop()  \n",
        "            return\n",
        "\n",
        "        if j + 1 < self.columnas:\n",
        "            self.Metodo_Recursivo(i, j + 1, camino_actual)\n",
        "\n",
        "        if i + 1 < self.filas:\n",
        "            self.Metodo_Recursivo(i + 1, j, camino_actual)\n",
        "\n",
        "        camino_actual.pop()  \n",
        "\n",
        "    def Metodo_Iterativo(self):\n",
        "        self.matriz_caminos[0][0] = 1\n",
        "        for i in range(self.filas):\n",
        "            for j in range(self.columnas):\n",
        "                if i > 0:\n",
        "                    self.matriz_caminos[i][j] += self.matriz_caminos[i - 1][j]\n",
        "                if j > 0:\n",
        "                    self.matriz_caminos[i][j] += self.matriz_caminos[i][j - 1]\n",
        "\n",
        "    def visualizar_caminos_recursivo(self):\n",
        "        self.caminos_almacenados.clear()\n",
        "        self.Metodo_Recursivo(0, 0, [])\n",
        "        return len(self.caminos_almacenados)\n",
        "\n",
        "    def visualizar_caminos_iterativo(self):\n",
        "        self.Metodo_Iterativo()\n",
        "        return self.matriz_caminos[self.filas - 1][self.columnas - 1]\n",
        "\n",
        "    def calcular_tiempo(self, metodo):\n",
        "\n",
        "        inicio = perf_counter()\n",
        "        resultado = metodo()\n",
        "        fin = perf_counter()\n",
        "        tiempo = fin - inicio\n",
        "        return resultado, tiempo\n",
        "\n",
        "# Ejemplo de uso\n",
        "x = DiseñoPCB(3, 3)\n",
        "\n",
        "# Medir el tiempo del método recursivo\n",
        "resultado_recursivo, tiempo_recursivo = x.calcular_tiempo(x.visualizar_caminos_recursivo)\n",
        "print(f\"Recursivo - Número de caminos posibles: {resultado_recursivo}\")\n",
        "print(f\"Tiempo de ejecución (recursivo): {tiempo_recursivo:.6f} segundos\")\n",
        "\n",
        "# Medir el tiempo del método iterativo\n",
        "resultado_iterativo, tiempo_iterativo = x.calcular_tiempo(x.visualizar_caminos_iterativo)\n",
        "print(f\"Iterativo - Número de caminos posibles: {resultado_iterativo}\")\n",
        "print(f\"Tiempo de ejecución (iterativo): {tiempo_iterativo:.6f} segundos\")\n"
      ]
    },
    {
      "cell_type": "markdown",
      "metadata": {
        "id": "-lxA29vvheYC"
      },
      "source": [
        "¿Qué pasaría si tuviese 6 soluciones distintas? ¿Tendría que programar 6 nuevas funciones o\n",
        "métodos para extraer la información deseada? Sin dudas esto sería un problema, pues repetiría\n",
        "muchas veces su código de forma innecesaria. Para evitar este escenario, puede aprovechar que\n",
        "las funciones en Python aceptan como argumento no sólo tipos básicos de datos, sino que también (entre otras cosas) aceptan funciones. Como resultado, se obtiene lo mismo que entrega la función func, pero además se ha extendido su funcionalidad para hacer algo más. Sabiendo lo anterior, ahora puede programar un únicométodo que recibe una función, y puede calcular el tiempo de ejecución de dicha función."
      ]
    },
    {
      "cell_type": "code",
      "execution_count": 4,
      "metadata": {
        "colab": {
          "base_uri": "https://localhost:8080/"
        },
        "id": "d4v5eU_Ff4Bs",
        "outputId": "02744f84-c86e-43d7-9bfd-5f1779757a33"
      },
      "outputs": [
        {
          "name": "stdout",
          "output_type": "stream",
          "text": [
            "Recursivo - Número de caminos posibles: 6\n",
            "Tiempo de ejecución (recursivo): 0.000031 segundos\n",
            "Iterativo - Número de caminos posibles: 6\n",
            "Tiempo de ejecución (iterativo): 0.000044 segundos\n"
          ]
        }
      ],
      "source": [
        "import numpy as np\n",
        "from time import perf_counter\n",
        "\n",
        "class DiseñoPCB:\n",
        "    def __init__(self, filas, columnas):\n",
        "        self.filas = filas\n",
        "        self.columnas = columnas\n",
        "        self.caminos_almacenados = [] \n",
        "        self.matriz_caminos = np.zeros((filas, columnas), dtype=int) \n",
        "\n",
        "    def Metodo_Recursivo(self, i, j, camino_actual):\n",
        "        \n",
        "        camino_actual.append((i, j))\n",
        "\n",
        "        if i == self.filas - 1 and j == self.columnas - 1:\n",
        "            ruta = tuple(camino_actual)\n",
        "           \n",
        "            if ruta not in self.caminos_almacenados:\n",
        "                self.caminos_almacenados.append(ruta)\n",
        "            camino_actual.pop()  \n",
        "            return\n",
        "\n",
        "  \n",
        "        if j + 1 < self.columnas:\n",
        "            self.Metodo_Recursivo(i, j + 1, camino_actual)\n",
        "\n",
        "\n",
        "        if i + 1 < self.filas:\n",
        "            self.Metodo_Recursivo(i + 1, j, camino_actual)\n",
        "\n",
        "        camino_actual.pop()  \n",
        "\n",
        "    def Metodo_Iterativo(self):\n",
        "\n",
        "        self.matriz_caminos[0][0] = 1\n",
        "\n",
        "        for i in range(self.filas):\n",
        "            for j in range(self.columnas):\n",
        "                if i > 0:\n",
        "                    self.matriz_caminos[i][j] += self.matriz_caminos[i - 1][j]\n",
        "                if j > 0:\n",
        "                    self.matriz_caminos[i][j] += self.matriz_caminos[i][j - 1]\n",
        "\n",
        "    def visualizar_caminos_recursivo(self):\n",
        "   \n",
        "        self.caminos_almacenados.clear()\n",
        "        self.Metodo_Recursivo(0, 0, [])\n",
        "        return len(self.caminos_almacenados)\n",
        "\n",
        "    def visualizar_caminos_iterativo(self):\n",
        "        self.Metodo_Iterativo()\n",
        "        return self.matriz_caminos[self.filas - 1][self.columnas - 1]\n",
        "\n",
        "    def calcular_tiempo_funcion(self, funcion):\n",
        "\n",
        "        inicio = perf_counter()\n",
        "        resultado = funcion()\n",
        "        fin = perf_counter()\n",
        "        tiempo = fin - inicio\n",
        "        return resultado, tiempo\n",
        "\n",
        "# Ejemplo de uso\n",
        "x = DiseñoPCB(3, 3)\n",
        "\n",
        "# Medir el tiempo del método recursivo\n",
        "resultado_recursivo, tiempo_recursivo = x.calcular_tiempo_funcion(x.visualizar_caminos_recursivo)\n",
        "print(f\"Recursivo - Número de caminos posibles: {resultado_recursivo}\")\n",
        "print(f\"Tiempo de ejecución (recursivo): {tiempo_recursivo:.6f} segundos\")\n",
        "\n",
        "# Medir el tiempo del método iterativo\n",
        "resultado_iterativo, tiempo_iterativo = x.calcular_tiempo_funcion(x.visualizar_caminos_iterativo)\n",
        "print(f\"Iterativo - Número de caminos posibles: {resultado_iterativo}\")\n",
        "print(f\"Tiempo de ejecución (iterativo): {tiempo_iterativo:.6f} segundos\")\n",
        "\n",
        "\n"
      ]
    },
    {
      "cell_type": "markdown",
      "metadata": {
        "id": "onOA8evDlQM6"
      },
      "source": [
        "Lo anterior es útil en varios casos, pero tiene el siguiente inconveniente: suponga que tiene un\n",
        "proyecto de cientos de archivos, y en muchos de estos archivos tiene decenas de llamados a la\n",
        "función func. Usted se vería en la obligación de cambiar todas esas llamadas de func(a, b)\n",
        "por funcion_que_recibe_otra_funcion(func, a, b), lo que empeora mucho la legibilidad\n",
        "de su código, se le podría olvidar cambiar alguno, y podría tener otros problemas que tienen\n",
        "relación con la calidad de su código.\n",
        "\n",
        "Para lidiar con estos problemas puede plantear la siguiente solución: usted tiene una función a la\n",
        "que le desea agregar funcionalidad. En lugar de crear una nueva función que entregue el mismo\n",
        "output, usted puede crear una función que renueve a func dotándola de nuevo funcionamiento.\n",
        "Para ello, en vez de retornar el mismo valor de func, puede retornar una nueva versión de func\n",
        "con el comportamiento extra que usted quiere entregarle."
      ]
    },
    {
      "cell_type": "code",
      "execution_count": 5,
      "metadata": {
        "colab": {
          "base_uri": "https://localhost:8080/"
        },
        "id": "zH02KJFDjgNq",
        "outputId": "52ea0a87-73f2-4a2f-91b5-3c538497d2fb"
      },
      "outputs": [
        {
          "name": "stdout",
          "output_type": "stream",
          "text": [
            "Tiempo de ejecución: 0.000017 segundos\n",
            "Recursivo - Número de caminos posibles: 6\n",
            "Tiempo de ejecución: 0.000033 segundos\n",
            "Iterativo - Número de caminos posibles: 6\n"
          ]
        }
      ],
      "source": [
        "from time import perf_counter\n",
        "import numpy as np\n",
        "\n",
        "def medir_tiempo(funcion):\n",
        "    def nueva_funcion(self):\n",
        "        inicio = perf_counter()\n",
        "        resultado = funcion(self)  \n",
        "        fin = perf_counter()\n",
        "        tiempo = fin - inicio\n",
        "        print(f\"Tiempo de ejecución: {tiempo:.6f} segundos\")\n",
        "        return resultado\n",
        "    return nueva_funcion\n",
        "\n",
        "class DiseñoPCB:\n",
        "    def __init__(self, filas, columnas):\n",
        "        self.filas = filas\n",
        "        self.columnas = columnas\n",
        "        self.caminos_almacenados = []  \n",
        "        self.matriz_caminos = np.zeros((filas, columnas), dtype=int)  \n",
        "\n",
        "    def Metodo_Recursivo(self, i, j, camino_actual):\n",
        "        camino_actual.append((i, j))\n",
        "        if i == self.filas - 1 and j == self.columnas - 1:\n",
        "            ruta = tuple(camino_actual)\n",
        "            if ruta not in self.caminos_almacenados:\n",
        "                self.caminos_almacenados.append(ruta)\n",
        "            camino_actual.pop() \n",
        "            return\n",
        "\n",
        "        if j + 1 < self.columnas:\n",
        "            self.Metodo_Recursivo(i, j + 1, camino_actual)\n",
        "\n",
        "        if i + 1 < self.filas:\n",
        "            self.Metodo_Recursivo(i + 1, j, camino_actual)\n",
        "\n",
        "        camino_actual.pop()  \n",
        "\n",
        "    def Metodo_Iterativo(self):\n",
        "        self.matriz_caminos[0][0] = 1\n",
        "        for i in range(self.filas):\n",
        "            for j in range(self.columnas):\n",
        "                if i > 0:\n",
        "                    self.matriz_caminos[i][j] += self.matriz_caminos[i - 1][j]\n",
        "                if j > 0:\n",
        "                    self.matriz_caminos[i][j] += self.matriz_caminos[i][j - 1]\n",
        "\n",
        "    @medir_tiempo\n",
        "    def visualizar_caminos_recursivo(self):\n",
        "        self.caminos_almacenados.clear()\n",
        "        self.Metodo_Recursivo(0, 0, [])\n",
        "        return len(self.caminos_almacenados)\n",
        "\n",
        "    @medir_tiempo\n",
        "    def visualizar_caminos_iterativo(self):\n",
        "        self.Metodo_Iterativo()\n",
        "        return self.matriz_caminos[self.filas - 1][self.columnas - 1]\n",
        "\n",
        "# Ejemplo de uso\n",
        "x = DiseñoPCB(3, 3)\n",
        "\n",
        "# Medir el tiempo del método recursivo usando el decorador\n",
        "resultado_recursivo = x.visualizar_caminos_recursivo()\n",
        "print(f\"Recursivo - Número de caminos posibles: {resultado_recursivo}\")\n",
        "\n",
        "# Medir el tiempo del método iterativo usando el decorador\n",
        "resultado_iterativo = x.visualizar_caminos_iterativo()\n",
        "print(f\"Iterativo - Número de caminos posibles: {resultado_iterativo}\")\n"
      ]
    },
    {
      "cell_type": "markdown",
      "metadata": {
        "id": "H5q16eUF5W5I"
      },
      "source": [
        "Programe un decorador que permita almacenar de alguna forma el tiempo de ejecución de una\n",
        "función, y utilícelo para decorar un nuevo método en su clase. Este nuevo método debe ser capaz\n",
        "de cambiar la forma en que calcula la respuesta entre las distintas soluciones que programó en\n",
        "un principio.\n"
      ]
    },
    {
      "cell_type": "markdown",
      "metadata": {},
      "source": [
        "Explicación:\n",
        "\n",
        "Se define un decorador llamado medir_y_almacenar_tiempo que sirve para medir el tiempo de ejecución de un método y almacenar ese tiempo en un atributo del objeto (instancia de la clase).\n",
        "\n",
        "* __Función principal (medir_y_almacenar_tiempo):__ Se toma un parámetro tipo, que indica si el método es 'recursivo' o 'iterativo y devuelve el decorador que se aplicará al método.\n",
        "* __Decorador interno (decorador):__ Se Recibe el método original funcion que se va a decorar y devuelve una nueva función que envuelve al método original.\n",
        "* __Función envolvente (nueva_funcion):__ Se mide el tiempo de ejecución del método original y almacena el tiempo transcurrido en un atributo del objeto según el tipo especificado ('recursivo' o 'iterativo') y finalmente devuelve el resultado del método original."
      ]
    },
    {
      "cell_type": "code",
      "execution_count": 6,
      "metadata": {
        "colab": {
          "base_uri": "https://localhost:8080/"
        },
        "id": "icw45fUqq6ho",
        "outputId": "620457e6-1394-4560-ea47-7105112091cb"
      },
      "outputs": [
        {
          "name": "stdout",
          "output_type": "stream",
          "text": [
            "Recursivo - Número de caminos posibles: 6\n",
            "Tiempo de ejecución del método recursivo: 0.000000 segundos\n",
            "Iterativo - Número de caminos posibles: 6\n",
            "Tiempo de ejecución del método iterativo: 0.000000 segundos\n"
          ]
        }
      ],
      "source": [
        "import time\n",
        "import numpy as np\n",
        "\n",
        "\n",
        "def medir_y_almacenar_tiempo(tipo):\n",
        "    def decorador(funcion):\n",
        "        def nueva_funcion(self):\n",
        "            inicio = time.time()\n",
        "            resultado = funcion(self)\n",
        "            fin = time.time()\n",
        "            tiempo = fin - inicio\n",
        "            if tipo == 'recursivo':\n",
        "                self._tiempo_recursivo = tiempo  # Almacena solo el último tiempo de ejecución del recursivo\n",
        "            elif tipo == 'iterativo':\n",
        "                self._tiempo_iterativo = tiempo  # Almacena solo el último tiempo de ejecución del iterativo\n",
        "            return resultado\n",
        "        return nueva_funcion\n",
        "    return decorador\n",
        "\n",
        "class DiseñoPCB:\n",
        "    def __init__(self, filas, columnas):\n",
        "        self.filas = filas\n",
        "        self.columnas = columnas\n",
        "        self.caminos_almacenados =[]  # Para el método recursivo\n",
        "        self.matriz_caminos = np.zeros((filas, columnas), dtype=int)  \n",
        "        self._tiempo_recursivo = 0 \n",
        "        self._tiempo_iterativo = 0  \n",
        "\n",
        "    def Metodo_Recursivo(self, i, j, camino_actual):\n",
        "        camino_actual.append((i, j))\n",
        "        if i == self.filas - 1 and j == self.columnas - 1:\n",
        "            ruta = tuple(camino_actual)\n",
        "            if ruta not in self.caminos_almacenados:\n",
        "                self.caminos_almacenados.append(ruta)\n",
        "            camino_actual.pop()  \n",
        "            return\n",
        "\n",
        "        if j + 1 < self.columnas:\n",
        "            self.Metodo_Recursivo(i, j + 1, camino_actual)\n",
        "\n",
        "        if i + 1 < self.filas:\n",
        "            self.Metodo_Recursivo(i + 1, j, camino_actual)\n",
        "\n",
        "        camino_actual.pop()  \n",
        "\n",
        "    def Metodo_Iterativo(self):\n",
        "        self.matriz_caminos[0][0] = 1\n",
        "        for i in range(self.filas):\n",
        "            for j in range(self.columnas):\n",
        "                if i > 0:\n",
        "                    self.matriz_caminos[i][j] += self.matriz_caminos[i - 1][j]\n",
        "                if j > 0:\n",
        "                    self.matriz_caminos[i][j] += self.matriz_caminos[i][j - 1]\n",
        "\n",
        "    @medir_y_almacenar_tiempo('recursivo')\n",
        "    def visualizar_caminos_recursivo(self):\n",
        "        self.caminos_almacenados.clear()\n",
        "        self.Metodo_Recursivo(0, 0, [])\n",
        "        return len(self.caminos_almacenados)\n",
        "\n",
        "    @medir_y_almacenar_tiempo('iterativo')\n",
        "    def visualizar_caminos_iterativo(self):\n",
        "        self.Metodo_Iterativo()\n",
        "        return self.matriz_caminos[self.filas-1][self.columnas-1]\n",
        "\n",
        "\n",
        "    def obtener_tiempo(self, metodo='recursivo'):\n",
        "        if metodo == 'recursivo':\n",
        "            return f\"{self._tiempo_recursivo:.6f} segundos\"\n",
        "        elif metodo == 'iterativo':\n",
        "            return f\"{self._tiempo_iterativo:.6f} segundos\"\n",
        "\n",
        "    def calcular_caminos(self, metodo='recursivo'):\n",
        "        if metodo == 'recursivo':\n",
        "            return self.visualizar_caminos_recursivo()\n",
        "        elif metodo == 'iterativo':\n",
        "            return self.visualizar_caminos_iterativo()\n",
        "        else:\n",
        "            raise ValueError(\"Método no reconocido. Usa 'recursivo' o 'iterativo'.\")\n",
        "\n",
        "# Ejemplo de uso\n",
        "x = DiseñoPCB(3, 3)\n",
        "\n",
        "resultado_recursivo = x.calcular_caminos(metodo='recursivo')\n",
        "print(f\"Recursivo - Número de caminos posibles: {resultado_recursivo}\")\n",
        "print(f\"Tiempo de ejecución del método recursivo: {x.obtener_tiempo(metodo='recursivo')}\")\n",
        "\n",
        "# Calcular caminos usando el método iterativo\n",
        "resultado_iterativo = x.calcular_caminos(metodo='iterativo')\n",
        "print(f\"Iterativo - Número de caminos posibles: {resultado_iterativo}\")\n",
        "print(f\"Tiempo de ejecución del método iterativo: {x.obtener_tiempo(metodo='iterativo')}\")\n"
      ]
    },
    {
      "cell_type": "markdown",
      "metadata": {
        "id": "a50fLRiG6nap"
      },
      "source": [
        "# Parte Final"
      ]
    },
    {
      "cell_type": "code",
      "execution_count": 8,
      "metadata": {
        "colab": {
          "base_uri": "https://localhost:8080/",
          "height": 356
        },
        "id": "RHSSkROp6jIQ",
        "outputId": "ba785cf7-3b78-4ca3-db05-dea03deda6e7"
      },
      "outputs": [
        {
          "data": {
            "image/png": "[encoded data removed]",
            "text/plain": [
              "<Figure size 1000x600 with 1 Axes>"
            ]
          },
          "metadata": {},
          "output_type": "display_data"
        },
        {
          "data": {
            "text/plain": [
              "<Figure size 640x480 with 0 Axes>"
            ]
          },
          "metadata": {},
          "output_type": "display_data"
        }
      ],
      "source": [
        "import time\n",
        "import numpy as np\n",
        "import matplotlib.pyplot as plt\n",
        "\n",
        "def medir_y_almacenar_tiempo(tipo):\n",
        "    def decorador(funcion):\n",
        "        def nueva_funcion(self):\n",
        "            inicio = time.time()\n",
        "            resultado = funcion(self)\n",
        "            fin = time.time()\n",
        "            tiempo = fin - inicio\n",
        "            if tipo == 'recursivo':\n",
        "                self._tiempo_recursivo = tiempo\n",
        "            elif tipo == 'iterativo':\n",
        "                self._tiempo_iterativo = tiempo\n",
        "            return resultado\n",
        "        return nueva_funcion\n",
        "    return decorador\n",
        "\n",
        "class DiseñoPCB:\n",
        "    def __init__(self, filas, columnas):\n",
        "        self.filas = filas\n",
        "        self.columnas = columnas\n",
        "        self.caminos_almacenados = []  \n",
        "        self.matriz_caminos = np.zeros((filas, columnas), dtype=int)\n",
        "        self._tiempo_recursivo = 0\n",
        "        self._tiempo_iterativo = 0\n",
        "\n",
        "    def Metodo_Recursivo(self, i, j, camino_actual):\n",
        "        camino_actual.append((i, j))\n",
        "        if i == self.filas - 1 and j == self.columnas - 1:\n",
        "            ruta = tuple(camino_actual)\n",
        "            if ruta not in self.caminos_almacenados:\n",
        "                self.caminos_almacenados.append(ruta)\n",
        "            camino_actual.pop()\n",
        "            return\n",
        "\n",
        "        if j + 1 < self.columnas:\n",
        "            self.Metodo_Recursivo(i,j + 1,camino_actual)\n",
        "\n",
        "        if i + 1 < self.filas:\n",
        "            self.Metodo_Recursivo(i + 1,j,camino_actual)\n",
        "\n",
        "        camino_actual.pop()\n",
        "\n",
        "    def Metodo_Iterativo(self):\n",
        "        self.matriz_caminos[0][0]=1\n",
        "        for i in range(self.filas):\n",
        "            for j in range(self.columnas):\n",
        "                if i > 0:\n",
        "                    self.matriz_caminos[i][j] += self.matriz_caminos[i -1][j]\n",
        "                if j > 0:\n",
        "                    self.matriz_caminos[i][j] += self.matriz_caminos[i][j -1]\n",
        "\n",
        "    @medir_y_almacenar_tiempo('recursivo')\n",
        "    def visualizar_caminos_recursivo(self):\n",
        "        self.caminos_almacenados.clear()\n",
        "        self.Metodo_Recursivo(0, 0, [])\n",
        "        return len(self.caminos_almacenados)\n",
        "\n",
        "    @medir_y_almacenar_tiempo('iterativo')\n",
        "    def visualizar_caminos_iterativo(self):\n",
        "        self.Metodo_Iterativo()\n",
        "        return self.matriz_caminos[self.filas -1][self.columnas -1]\n",
        "\n",
        "    def calcular_caminos(self, metodo='recursivo'):\n",
        "        if metodo == 'recursivo':\n",
        "            return self.visualizar_caminos_recursivo()\n",
        "        elif metodo == 'iterativo':\n",
        "            return self.visualizar_caminos_iterativo()\n",
        "        else:\n",
        "            raise ValueError(\"Método no reconocido. Usa 'recursivo' o 'iterativo'.\")\n",
        "\n",
        "\n",
        "############################## GRAFICO #########################################\n",
        "n_matrices = list(range(2, 10))\n",
        "tiempos_recursivo = []\n",
        "tiempos_iterativo = []\n",
        "\n",
        "for n in n_matrices:\n",
        "    x = DiseñoPCB(n, n)\n",
        "\n",
        "    x.calcular_caminos(metodo='recursivo')\n",
        "    tiempos_recursivo.append(x._tiempo_recursivo)\n",
        "\n",
        "    x.calcular_caminos(metodo='iterativo')\n",
        "    tiempos_iterativo.append(x._tiempo_iterativo)\n",
        "\n",
        "plt.figure(figsize=(10, 6))\n",
        "plt.plot(n_matrices, tiempos_recursivo, marker='o', label='Recursivo', color='blue')\n",
        "plt.plot(n_matrices, tiempos_iterativo, marker='o', label='Iterativo', color='green')\n",
        "plt.xticks(n_matrices, [f\"{n}x{n}\" for n in n_matrices])\n",
        "plt.xlabel('Tamaño de la grilla ')\n",
        "plt.ylabel('Tiempo de ejecución (segundos)')\n",
        "plt.title('Comparación de tiempos de ejecución entre métodos Recursivo e Iterativo')\n",
        "plt.legend()\n",
        "plt.grid(True)\n",
        "plt.show()\n",
        "\n",
        "plt.savefig('grafico_tiempos.svg', format='svg')\n"
      ]
    }
  ],
  "metadata": {
    "colab": {
      "provenance": []
    },
    "kernelspec": {
      "display_name": "Python 3",
      "name": "python3"
    },
    "language_info": {
      "codemirror_mode": {
        "name": "ipython",
        "version": 3
      },
      "file_extension": ".py",
      "mimetype": "text/x-python",
      "name": "python",
      "nbconvert_exporter": "python",
      "pygments_lexer": "ipython3",
      "version": "3.10.9"
    }
  },
  "nbformat": 4,
  "nbformat_minor": 0
}
